{
 "cells": [
  {
   "cell_type": "code",
   "execution_count": 1,
   "id": "768ea8e1",
   "metadata": {},
   "outputs": [],
   "source": [
    "#import data\n",
    "import pandas as pd\n",
    "import numpy as np\n",
    "import matplotlib.pyplot as plt\n",
    "import seaborn as sns"
   ]
  },
  {
   "cell_type": "code",
   "execution_count": 100,
   "id": "e855a04d",
   "metadata": {},
   "outputs": [],
   "source": [
    "df=pd.read_excel('C:/Users/Rohitha Manne/Python Programming/Class8_Industrial_sales_data.xlsx')"
   ]
  },
  {
   "cell_type": "code",
   "execution_count": 101,
   "id": "9e6ed783",
   "metadata": {},
   "outputs": [
    {
     "data": {
      "text/html": [
       "<div>\n",
       "<style scoped>\n",
       "    .dataframe tbody tr th:only-of-type {\n",
       "        vertical-align: middle;\n",
       "    }\n",
       "\n",
       "    .dataframe tbody tr th {\n",
       "        vertical-align: top;\n",
       "    }\n",
       "\n",
       "    .dataframe thead th {\n",
       "        text-align: right;\n",
       "    }\n",
       "</style>\n",
       "<table border=\"1\" class=\"dataframe\">\n",
       "  <thead>\n",
       "    <tr style=\"text-align: right;\">\n",
       "      <th></th>\n",
       "      <th>Date</th>\n",
       "      <th>S1- Thermostat</th>\n",
       "      <th>S2- Thermostat2</th>\n",
       "      <th>S3- Temperature</th>\n",
       "      <th>S4 - Humidity</th>\n",
       "      <th>S5- O2 levels</th>\n",
       "      <th>S6 - Co2 Levels</th>\n",
       "      <th>Count of Available Products</th>\n",
       "      <th>Count of Dispatched products</th>\n",
       "      <th>Revenue Generated</th>\n",
       "    </tr>\n",
       "  </thead>\n",
       "  <tbody>\n",
       "    <tr>\n",
       "      <th>0</th>\n",
       "      <td>2020-04-01 00:00:00</td>\n",
       "      <td>22.30</td>\n",
       "      <td>19.68</td>\n",
       "      <td>22.50</td>\n",
       "      <td>56.57</td>\n",
       "      <td>18.43</td>\n",
       "      <td>982.26</td>\n",
       "      <td>34</td>\n",
       "      <td>269</td>\n",
       "      <td>5896.74</td>\n",
       "    </tr>\n",
       "    <tr>\n",
       "      <th>1</th>\n",
       "      <td>2020-05-01 00:00:00</td>\n",
       "      <td>22.26</td>\n",
       "      <td>18.03</td>\n",
       "      <td>10.29</td>\n",
       "      <td>36.94</td>\n",
       "      <td>20.78</td>\n",
       "      <td>787.54</td>\n",
       "      <td>250</td>\n",
       "      <td>201</td>\n",
       "      <td>5843.18</td>\n",
       "    </tr>\n",
       "    <tr>\n",
       "      <th>2</th>\n",
       "      <td>2020-05-01 00:00:00</td>\n",
       "      <td>23.17</td>\n",
       "      <td>21.98</td>\n",
       "      <td>16.52</td>\n",
       "      <td>42.19</td>\n",
       "      <td>22.67</td>\n",
       "      <td>750.08</td>\n",
       "      <td>422</td>\n",
       "      <td>18</td>\n",
       "      <td>9418.73</td>\n",
       "    </tr>\n",
       "    <tr>\n",
       "      <th>3</th>\n",
       "      <td>2020-06-01 00:00:00</td>\n",
       "      <td>19.98</td>\n",
       "      <td>20.09</td>\n",
       "      <td>27.61</td>\n",
       "      <td>69.96</td>\n",
       "      <td>20.45</td>\n",
       "      <td>404.02</td>\n",
       "      <td>275</td>\n",
       "      <td>247</td>\n",
       "      <td>4106.12</td>\n",
       "    </tr>\n",
       "    <tr>\n",
       "      <th>4</th>\n",
       "      <td>2020-06-01 00:00:00</td>\n",
       "      <td>19.08</td>\n",
       "      <td>20.10</td>\n",
       "      <td>29.22</td>\n",
       "      <td>55.46</td>\n",
       "      <td>18.62</td>\n",
       "      <td>766.14</td>\n",
       "      <td>147</td>\n",
       "      <td>213</td>\n",
       "      <td>2614.35</td>\n",
       "    </tr>\n",
       "    <tr>\n",
       "      <th>...</th>\n",
       "      <td>...</td>\n",
       "      <td>...</td>\n",
       "      <td>...</td>\n",
       "      <td>...</td>\n",
       "      <td>...</td>\n",
       "      <td>...</td>\n",
       "      <td>...</td>\n",
       "      <td>...</td>\n",
       "      <td>...</td>\n",
       "      <td>...</td>\n",
       "    </tr>\n",
       "    <tr>\n",
       "      <th>995</th>\n",
       "      <td>26-08-2023</td>\n",
       "      <td>24.82</td>\n",
       "      <td>18.95</td>\n",
       "      <td>19.62</td>\n",
       "      <td>67.89</td>\n",
       "      <td>19.00</td>\n",
       "      <td>519.93</td>\n",
       "      <td>493</td>\n",
       "      <td>203</td>\n",
       "      <td>9718.53</td>\n",
       "    </tr>\n",
       "    <tr>\n",
       "      <th>996</th>\n",
       "      <td>27-08-2023</td>\n",
       "      <td>20.09</td>\n",
       "      <td>19.05</td>\n",
       "      <td>32.96</td>\n",
       "      <td>65.99</td>\n",
       "      <td>22.03</td>\n",
       "      <td>861.65</td>\n",
       "      <td>307</td>\n",
       "      <td>206</td>\n",
       "      <td>6944.77</td>\n",
       "    </tr>\n",
       "    <tr>\n",
       "      <th>997</th>\n",
       "      <td>27-08-2023</td>\n",
       "      <td>22.10</td>\n",
       "      <td>19.83</td>\n",
       "      <td>26.08</td>\n",
       "      <td>52.59</td>\n",
       "      <td>21.06</td>\n",
       "      <td>994.26</td>\n",
       "      <td>203</td>\n",
       "      <td>104</td>\n",
       "      <td>4719.05</td>\n",
       "    </tr>\n",
       "    <tr>\n",
       "      <th>998</th>\n",
       "      <td>28-08-2023</td>\n",
       "      <td>24.99</td>\n",
       "      <td>23.85</td>\n",
       "      <td>39.07</td>\n",
       "      <td>67.05</td>\n",
       "      <td>22.24</td>\n",
       "      <td>416.42</td>\n",
       "      <td>248</td>\n",
       "      <td>246</td>\n",
       "      <td>2923.73</td>\n",
       "    </tr>\n",
       "    <tr>\n",
       "      <th>999</th>\n",
       "      <td>29-08-2023</td>\n",
       "      <td>23.14</td>\n",
       "      <td>23.57</td>\n",
       "      <td>33.99</td>\n",
       "      <td>63.78</td>\n",
       "      <td>21.11</td>\n",
       "      <td>497.72</td>\n",
       "      <td>383</td>\n",
       "      <td>44</td>\n",
       "      <td>7003.51</td>\n",
       "    </tr>\n",
       "  </tbody>\n",
       "</table>\n",
       "<p>1000 rows × 10 columns</p>\n",
       "</div>"
      ],
      "text/plain": [
       "                    Date  S1- Thermostat  S2- Thermostat2  S3- Temperature  \\\n",
       "0    2020-04-01 00:00:00           22.30            19.68            22.50   \n",
       "1    2020-05-01 00:00:00           22.26            18.03            10.29   \n",
       "2    2020-05-01 00:00:00           23.17            21.98            16.52   \n",
       "3    2020-06-01 00:00:00           19.98            20.09            27.61   \n",
       "4    2020-06-01 00:00:00           19.08            20.10            29.22   \n",
       "..                   ...             ...              ...              ...   \n",
       "995           26-08-2023           24.82            18.95            19.62   \n",
       "996           27-08-2023           20.09            19.05            32.96   \n",
       "997           27-08-2023           22.10            19.83            26.08   \n",
       "998           28-08-2023           24.99            23.85            39.07   \n",
       "999           29-08-2023           23.14            23.57            33.99   \n",
       "\n",
       "     S4 - Humidity  S5- O2 levels  S6 - Co2 Levels  \\\n",
       "0            56.57          18.43           982.26   \n",
       "1            36.94          20.78           787.54   \n",
       "2            42.19          22.67           750.08   \n",
       "3            69.96          20.45           404.02   \n",
       "4            55.46          18.62           766.14   \n",
       "..             ...            ...              ...   \n",
       "995          67.89          19.00           519.93   \n",
       "996          65.99          22.03           861.65   \n",
       "997          52.59          21.06           994.26   \n",
       "998          67.05          22.24           416.42   \n",
       "999          63.78          21.11           497.72   \n",
       "\n",
       "     Count of Available Products  Count of Dispatched products  \\\n",
       "0                             34                           269   \n",
       "1                            250                           201   \n",
       "2                            422                            18   \n",
       "3                            275                           247   \n",
       "4                            147                           213   \n",
       "..                           ...                           ...   \n",
       "995                          493                           203   \n",
       "996                          307                           206   \n",
       "997                          203                           104   \n",
       "998                          248                           246   \n",
       "999                          383                            44   \n",
       "\n",
       "     Revenue Generated  \n",
       "0              5896.74  \n",
       "1              5843.18  \n",
       "2              9418.73  \n",
       "3              4106.12  \n",
       "4              2614.35  \n",
       "..                 ...  \n",
       "995            9718.53  \n",
       "996            6944.77  \n",
       "997            4719.05  \n",
       "998            2923.73  \n",
       "999            7003.51  \n",
       "\n",
       "[1000 rows x 10 columns]"
      ]
     },
     "execution_count": 101,
     "metadata": {},
     "output_type": "execute_result"
    }
   ],
   "source": [
    "df"
   ]
  },
  {
   "cell_type": "code",
   "execution_count": 102,
   "id": "88a3507e",
   "metadata": {},
   "outputs": [
    {
     "name": "stdout",
     "output_type": "stream",
     "text": [
      "<class 'pandas.core.frame.DataFrame'>\n",
      "RangeIndex: 1000 entries, 0 to 999\n",
      "Data columns (total 10 columns):\n",
      " #   Column                        Non-Null Count  Dtype  \n",
      "---  ------                        --------------  -----  \n",
      " 0   Date                          1000 non-null   object \n",
      " 1   S1- Thermostat                1000 non-null   float64\n",
      " 2   S2- Thermostat2               1000 non-null   float64\n",
      " 3   S3- Temperature               1000 non-null   float64\n",
      " 4   S4 - Humidity                 1000 non-null   float64\n",
      " 5   S5- O2 levels                 1000 non-null   float64\n",
      " 6   S6 - Co2 Levels               1000 non-null   float64\n",
      " 7   Count of Available Products   1000 non-null   int64  \n",
      " 8   Count of Dispatched products  1000 non-null   int64  \n",
      " 9   Revenue Generated             1000 non-null   float64\n",
      "dtypes: float64(7), int64(2), object(1)\n",
      "memory usage: 78.3+ KB\n"
     ]
    }
   ],
   "source": [
    "df.info()"
   ]
  },
  {
   "cell_type": "code",
   "execution_count": 103,
   "id": "347f4004",
   "metadata": {},
   "outputs": [
    {
     "data": {
      "text/html": [
       "<div>\n",
       "<style scoped>\n",
       "    .dataframe tbody tr th:only-of-type {\n",
       "        vertical-align: middle;\n",
       "    }\n",
       "\n",
       "    .dataframe tbody tr th {\n",
       "        vertical-align: top;\n",
       "    }\n",
       "\n",
       "    .dataframe thead th {\n",
       "        text-align: right;\n",
       "    }\n",
       "</style>\n",
       "<table border=\"1\" class=\"dataframe\">\n",
       "  <thead>\n",
       "    <tr style=\"text-align: right;\">\n",
       "      <th></th>\n",
       "      <th>Date</th>\n",
       "      <th>S1- Thermostat</th>\n",
       "      <th>S2- Thermostat2</th>\n",
       "      <th>S3- Temperature</th>\n",
       "      <th>S4 - Humidity</th>\n",
       "      <th>S5- O2 levels</th>\n",
       "      <th>S6 - Co2 Levels</th>\n",
       "      <th>Count of Available Products</th>\n",
       "      <th>Count of Dispatched products</th>\n",
       "      <th>Revenue Generated</th>\n",
       "    </tr>\n",
       "  </thead>\n",
       "  <tbody>\n",
       "    <tr>\n",
       "      <th>0</th>\n",
       "      <td>2020-04-01 00:00:00</td>\n",
       "      <td>22.30</td>\n",
       "      <td>19.68</td>\n",
       "      <td>22.50</td>\n",
       "      <td>56.57</td>\n",
       "      <td>18.43</td>\n",
       "      <td>982.26</td>\n",
       "      <td>34</td>\n",
       "      <td>269</td>\n",
       "      <td>5896.74</td>\n",
       "    </tr>\n",
       "    <tr>\n",
       "      <th>1</th>\n",
       "      <td>2020-05-01 00:00:00</td>\n",
       "      <td>22.26</td>\n",
       "      <td>18.03</td>\n",
       "      <td>10.29</td>\n",
       "      <td>36.94</td>\n",
       "      <td>20.78</td>\n",
       "      <td>787.54</td>\n",
       "      <td>250</td>\n",
       "      <td>201</td>\n",
       "      <td>5843.18</td>\n",
       "    </tr>\n",
       "    <tr>\n",
       "      <th>2</th>\n",
       "      <td>2020-05-01 00:00:00</td>\n",
       "      <td>23.17</td>\n",
       "      <td>21.98</td>\n",
       "      <td>16.52</td>\n",
       "      <td>42.19</td>\n",
       "      <td>22.67</td>\n",
       "      <td>750.08</td>\n",
       "      <td>422</td>\n",
       "      <td>18</td>\n",
       "      <td>9418.73</td>\n",
       "    </tr>\n",
       "    <tr>\n",
       "      <th>3</th>\n",
       "      <td>2020-06-01 00:00:00</td>\n",
       "      <td>19.98</td>\n",
       "      <td>20.09</td>\n",
       "      <td>27.61</td>\n",
       "      <td>69.96</td>\n",
       "      <td>20.45</td>\n",
       "      <td>404.02</td>\n",
       "      <td>275</td>\n",
       "      <td>247</td>\n",
       "      <td>4106.12</td>\n",
       "    </tr>\n",
       "    <tr>\n",
       "      <th>4</th>\n",
       "      <td>2020-06-01 00:00:00</td>\n",
       "      <td>19.08</td>\n",
       "      <td>20.10</td>\n",
       "      <td>29.22</td>\n",
       "      <td>55.46</td>\n",
       "      <td>18.62</td>\n",
       "      <td>766.14</td>\n",
       "      <td>147</td>\n",
       "      <td>213</td>\n",
       "      <td>2614.35</td>\n",
       "    </tr>\n",
       "    <tr>\n",
       "      <th>5</th>\n",
       "      <td>2020-07-01 00:00:00</td>\n",
       "      <td>24.68</td>\n",
       "      <td>24.13</td>\n",
       "      <td>17.90</td>\n",
       "      <td>50.02</td>\n",
       "      <td>18.89</td>\n",
       "      <td>938.84</td>\n",
       "      <td>445</td>\n",
       "      <td>152</td>\n",
       "      <td>8575.02</td>\n",
       "    </tr>\n",
       "    <tr>\n",
       "      <th>6</th>\n",
       "      <td>13-01-2020</td>\n",
       "      <td>24.60</td>\n",
       "      <td>20.09</td>\n",
       "      <td>21.70</td>\n",
       "      <td>65.67</td>\n",
       "      <td>22.18</td>\n",
       "      <td>676.75</td>\n",
       "      <td>376</td>\n",
       "      <td>279</td>\n",
       "      <td>8198.81</td>\n",
       "    </tr>\n",
       "    <tr>\n",
       "      <th>7</th>\n",
       "      <td>14-01-2020</td>\n",
       "      <td>20.54</td>\n",
       "      <td>18.52</td>\n",
       "      <td>10.90</td>\n",
       "      <td>34.61</td>\n",
       "      <td>19.45</td>\n",
       "      <td>436.08</td>\n",
       "      <td>299</td>\n",
       "      <td>184</td>\n",
       "      <td>1395.14</td>\n",
       "    </tr>\n",
       "    <tr>\n",
       "      <th>8</th>\n",
       "      <td>15-01-2020</td>\n",
       "      <td>22.05</td>\n",
       "      <td>18.82</td>\n",
       "      <td>10.22</td>\n",
       "      <td>56.18</td>\n",
       "      <td>21.44</td>\n",
       "      <td>521.13</td>\n",
       "      <td>185</td>\n",
       "      <td>54</td>\n",
       "      <td>2393.01</td>\n",
       "    </tr>\n",
       "    <tr>\n",
       "      <th>9</th>\n",
       "      <td>16-01-2020</td>\n",
       "      <td>22.05</td>\n",
       "      <td>23.93</td>\n",
       "      <td>17.10</td>\n",
       "      <td>50.07</td>\n",
       "      <td>20.05</td>\n",
       "      <td>682.32</td>\n",
       "      <td>187</td>\n",
       "      <td>17</td>\n",
       "      <td>9804.10</td>\n",
       "    </tr>\n",
       "  </tbody>\n",
       "</table>\n",
       "</div>"
      ],
      "text/plain": [
       "                  Date  S1- Thermostat  S2- Thermostat2  S3- Temperature  \\\n",
       "0  2020-04-01 00:00:00           22.30            19.68            22.50   \n",
       "1  2020-05-01 00:00:00           22.26            18.03            10.29   \n",
       "2  2020-05-01 00:00:00           23.17            21.98            16.52   \n",
       "3  2020-06-01 00:00:00           19.98            20.09            27.61   \n",
       "4  2020-06-01 00:00:00           19.08            20.10            29.22   \n",
       "5  2020-07-01 00:00:00           24.68            24.13            17.90   \n",
       "6           13-01-2020           24.60            20.09            21.70   \n",
       "7           14-01-2020           20.54            18.52            10.90   \n",
       "8           15-01-2020           22.05            18.82            10.22   \n",
       "9           16-01-2020           22.05            23.93            17.10   \n",
       "\n",
       "   S4 - Humidity  S5- O2 levels  S6 - Co2 Levels  Count of Available Products  \\\n",
       "0          56.57          18.43           982.26                           34   \n",
       "1          36.94          20.78           787.54                          250   \n",
       "2          42.19          22.67           750.08                          422   \n",
       "3          69.96          20.45           404.02                          275   \n",
       "4          55.46          18.62           766.14                          147   \n",
       "5          50.02          18.89           938.84                          445   \n",
       "6          65.67          22.18           676.75                          376   \n",
       "7          34.61          19.45           436.08                          299   \n",
       "8          56.18          21.44           521.13                          185   \n",
       "9          50.07          20.05           682.32                          187   \n",
       "\n",
       "   Count of Dispatched products  Revenue Generated  \n",
       "0                           269            5896.74  \n",
       "1                           201            5843.18  \n",
       "2                            18            9418.73  \n",
       "3                           247            4106.12  \n",
       "4                           213            2614.35  \n",
       "5                           152            8575.02  \n",
       "6                           279            8198.81  \n",
       "7                           184            1395.14  \n",
       "8                            54            2393.01  \n",
       "9                            17            9804.10  "
      ]
     },
     "execution_count": 103,
     "metadata": {},
     "output_type": "execute_result"
    }
   ],
   "source": [
    "df.head(10)  #shows the top 5 rows of data"
   ]
  },
  {
   "cell_type": "code",
   "execution_count": 104,
   "id": "1ee7a840",
   "metadata": {},
   "outputs": [
    {
     "data": {
      "text/plain": [
       "(1000, 10)"
      ]
     },
     "execution_count": 104,
     "metadata": {},
     "output_type": "execute_result"
    }
   ],
   "source": [
    "df.shape"
   ]
  },
  {
   "cell_type": "code",
   "execution_count": 105,
   "id": "632399f8",
   "metadata": {},
   "outputs": [
    {
     "data": {
      "text/html": [
       "<div>\n",
       "<style scoped>\n",
       "    .dataframe tbody tr th:only-of-type {\n",
       "        vertical-align: middle;\n",
       "    }\n",
       "\n",
       "    .dataframe tbody tr th {\n",
       "        vertical-align: top;\n",
       "    }\n",
       "\n",
       "    .dataframe thead th {\n",
       "        text-align: right;\n",
       "    }\n",
       "</style>\n",
       "<table border=\"1\" class=\"dataframe\">\n",
       "  <thead>\n",
       "    <tr style=\"text-align: right;\">\n",
       "      <th></th>\n",
       "      <th>S1- Thermostat</th>\n",
       "      <th>S2- Thermostat2</th>\n",
       "      <th>S3- Temperature</th>\n",
       "      <th>S4 - Humidity</th>\n",
       "      <th>S5- O2 levels</th>\n",
       "      <th>S6 - Co2 Levels</th>\n",
       "      <th>Count of Available Products</th>\n",
       "      <th>Count of Dispatched products</th>\n",
       "      <th>Revenue Generated</th>\n",
       "    </tr>\n",
       "  </thead>\n",
       "  <tbody>\n",
       "    <tr>\n",
       "      <th>count</th>\n",
       "      <td>1000.000000</td>\n",
       "      <td>1000.000000</td>\n",
       "      <td>1000.000000</td>\n",
       "      <td>1000.000000</td>\n",
       "      <td>1000.000000</td>\n",
       "      <td>1000.000000</td>\n",
       "      <td>1000.000000</td>\n",
       "      <td>1000.000000</td>\n",
       "      <td>1000.000000</td>\n",
       "    </tr>\n",
       "    <tr>\n",
       "      <th>mean</th>\n",
       "      <td>21.446130</td>\n",
       "      <td>21.359400</td>\n",
       "      <td>25.314330</td>\n",
       "      <td>50.499860</td>\n",
       "      <td>20.534160</td>\n",
       "      <td>653.940550</td>\n",
       "      <td>252.148000</td>\n",
       "      <td>151.373000</td>\n",
       "      <td>5428.789290</td>\n",
       "    </tr>\n",
       "    <tr>\n",
       "      <th>std</th>\n",
       "      <td>2.041087</td>\n",
       "      <td>2.025567</td>\n",
       "      <td>8.467627</td>\n",
       "      <td>11.681649</td>\n",
       "      <td>1.444993</td>\n",
       "      <td>197.761352</td>\n",
       "      <td>143.109897</td>\n",
       "      <td>87.021461</td>\n",
       "      <td>2596.438206</td>\n",
       "    </tr>\n",
       "    <tr>\n",
       "      <th>min</th>\n",
       "      <td>18.000000</td>\n",
       "      <td>18.000000</td>\n",
       "      <td>10.040000</td>\n",
       "      <td>30.030000</td>\n",
       "      <td>18.010000</td>\n",
       "      <td>300.280000</td>\n",
       "      <td>0.000000</td>\n",
       "      <td>0.000000</td>\n",
       "      <td>1014.210000</td>\n",
       "    </tr>\n",
       "    <tr>\n",
       "      <th>25%</th>\n",
       "      <td>19.615000</td>\n",
       "      <td>19.592500</td>\n",
       "      <td>18.437500</td>\n",
       "      <td>40.377500</td>\n",
       "      <td>19.250000</td>\n",
       "      <td>487.975000</td>\n",
       "      <td>127.750000</td>\n",
       "      <td>73.000000</td>\n",
       "      <td>3150.795000</td>\n",
       "    </tr>\n",
       "    <tr>\n",
       "      <th>50%</th>\n",
       "      <td>21.380000</td>\n",
       "      <td>21.260000</td>\n",
       "      <td>25.535000</td>\n",
       "      <td>50.435000</td>\n",
       "      <td>20.580000</td>\n",
       "      <td>657.380000</td>\n",
       "      <td>254.500000</td>\n",
       "      <td>152.000000</td>\n",
       "      <td>5437.380000</td>\n",
       "    </tr>\n",
       "    <tr>\n",
       "      <th>75%</th>\n",
       "      <td>23.300000</td>\n",
       "      <td>22.990000</td>\n",
       "      <td>32.365000</td>\n",
       "      <td>60.765000</td>\n",
       "      <td>21.782500</td>\n",
       "      <td>817.377500</td>\n",
       "      <td>374.250000</td>\n",
       "      <td>226.000000</td>\n",
       "      <td>7658.197500</td>\n",
       "    </tr>\n",
       "    <tr>\n",
       "      <th>max</th>\n",
       "      <td>24.990000</td>\n",
       "      <td>24.990000</td>\n",
       "      <td>39.920000</td>\n",
       "      <td>69.970000</td>\n",
       "      <td>22.980000</td>\n",
       "      <td>999.970000</td>\n",
       "      <td>500.000000</td>\n",
       "      <td>300.000000</td>\n",
       "      <td>9999.790000</td>\n",
       "    </tr>\n",
       "  </tbody>\n",
       "</table>\n",
       "</div>"
      ],
      "text/plain": [
       "       S1- Thermostat  S2- Thermostat2  S3- Temperature  S4 - Humidity  \\\n",
       "count     1000.000000      1000.000000      1000.000000    1000.000000   \n",
       "mean        21.446130        21.359400        25.314330      50.499860   \n",
       "std          2.041087         2.025567         8.467627      11.681649   \n",
       "min         18.000000        18.000000        10.040000      30.030000   \n",
       "25%         19.615000        19.592500        18.437500      40.377500   \n",
       "50%         21.380000        21.260000        25.535000      50.435000   \n",
       "75%         23.300000        22.990000        32.365000      60.765000   \n",
       "max         24.990000        24.990000        39.920000      69.970000   \n",
       "\n",
       "       S5- O2 levels  S6 - Co2 Levels  Count of Available Products  \\\n",
       "count    1000.000000      1000.000000                  1000.000000   \n",
       "mean       20.534160       653.940550                   252.148000   \n",
       "std         1.444993       197.761352                   143.109897   \n",
       "min        18.010000       300.280000                     0.000000   \n",
       "25%        19.250000       487.975000                   127.750000   \n",
       "50%        20.580000       657.380000                   254.500000   \n",
       "75%        21.782500       817.377500                   374.250000   \n",
       "max        22.980000       999.970000                   500.000000   \n",
       "\n",
       "       Count of Dispatched products  Revenue Generated  \n",
       "count                   1000.000000        1000.000000  \n",
       "mean                     151.373000        5428.789290  \n",
       "std                       87.021461        2596.438206  \n",
       "min                        0.000000        1014.210000  \n",
       "25%                       73.000000        3150.795000  \n",
       "50%                      152.000000        5437.380000  \n",
       "75%                      226.000000        7658.197500  \n",
       "max                      300.000000        9999.790000  "
      ]
     },
     "execution_count": 105,
     "metadata": {},
     "output_type": "execute_result"
    }
   ],
   "source": [
    "df.describe()"
   ]
  },
  {
   "cell_type": "code",
   "execution_count": 136,
   "id": "f0afdf12",
   "metadata": {},
   "outputs": [],
   "source": [
    "df1=df.iloc[:,0:6]"
   ]
  },
  {
   "cell_type": "code",
   "execution_count": 119,
   "id": "1861cb2d",
   "metadata": {},
   "outputs": [
    {
     "data": {
      "text/plain": [
       "Index(['Date', 'S1- Thermostat', 'S2- Thermostat2', 'S3- Temperature',\n",
       "       'S4 - Humidity', 'S5- O2 levels'],\n",
       "      dtype='object')"
      ]
     },
     "execution_count": 119,
     "metadata": {},
     "output_type": "execute_result"
    }
   ],
   "source": [
    "df1.columns"
   ]
  },
  {
   "cell_type": "code",
   "execution_count": 137,
   "id": "8e7f6f1f",
   "metadata": {},
   "outputs": [
    {
     "data": {
      "text/plain": [
       "Date               datetime64[ns]\n",
       "S1- Thermostat            float64\n",
       "S2- Thermostat2           float64\n",
       "S3- Temperature           float64\n",
       "S4 - Humidity             float64\n",
       "S5- O2 levels             float64\n",
       "dtype: object"
      ]
     },
     "execution_count": 137,
     "metadata": {},
     "output_type": "execute_result"
    }
   ],
   "source": [
    "df1.dtypes"
   ]
  },
  {
   "cell_type": "code",
   "execution_count": 138,
   "id": "ca7362ad",
   "metadata": {},
   "outputs": [
    {
     "data": {
      "text/plain": [
       "Date               698\n",
       "S1- Thermostat     509\n",
       "S2- Thermostat2    529\n",
       "S3- Temperature    851\n",
       "S4 - Humidity      884\n",
       "S5- O2 levels      433\n",
       "dtype: int64"
      ]
     },
     "execution_count": 138,
     "metadata": {},
     "output_type": "execute_result"
    }
   ],
   "source": [
    "df1.nunique()"
   ]
  },
  {
   "cell_type": "code",
   "execution_count": 139,
   "id": "ad14abce",
   "metadata": {},
   "outputs": [
    {
     "data": {
      "text/plain": [
       "S4 - Humidity\n",
       "30.03    21.19\n",
       "30.11    20.25\n",
       "30.12    22.35\n",
       "30.20    20.98\n",
       "30.26    22.92\n",
       "         ...  \n",
       "69.84    19.29\n",
       "69.86    21.45\n",
       "69.89    18.69\n",
       "69.96    20.45\n",
       "69.97    22.72\n",
       "Name: S5- O2 levels, Length: 884, dtype: float64"
      ]
     },
     "execution_count": 139,
     "metadata": {},
     "output_type": "execute_result"
    }
   ],
   "source": [
    "df1.groupby('S4 - Humidity')['S5- O2 levels'].mean()"
   ]
  },
  {
   "cell_type": "code",
   "execution_count": 122,
   "id": "f4ba5687",
   "metadata": {},
   "outputs": [
    {
     "data": {
      "text/plain": [
       "(array([0, 1, 2, 3, 4]),\n",
       " [Text(0, 0, 'S1- Thermostat'),\n",
       "  Text(1, 0, 'S2- Thermostat2'),\n",
       "  Text(2, 0, 'S3- Temperature'),\n",
       "  Text(3, 0, 'S4 - Humidity'),\n",
       "  Text(4, 0, 'S5- O2 levels')])"
      ]
     },
     "execution_count": 122,
     "metadata": {},
     "output_type": "execute_result"
    },
    {
     "data": {
      "image/png": "[encoded data removed]",
      "text/plain": [
       "<Figure size 640x480 with 1 Axes>"
      ]
     },
     "metadata": {},
     "output_type": "display_data"
    }
   ],
   "source": [
    "vis = sns.barplot(df1)\n",
    "plt.xticks(rotation=60)"
   ]
  },
  {
   "cell_type": "markdown",
   "id": "085cd6eb",
   "metadata": {},
   "source": [
    "Average of Humidity is highest compared to all the other levels."
   ]
  },
  {
   "cell_type": "code",
   "execution_count": 130,
   "id": "e11db397",
   "metadata": {},
   "outputs": [
    {
     "data": {
      "image/png": "[encoded data removed]",
      "text/plain": [
       "<Figure size 640x480 with 1 Axes>"
      ]
     },
     "metadata": {},
     "output_type": "display_data"
    }
   ],
   "source": [
    "df['Date'] = pd.to_datetime(df['Date'])\n",
    "monthly_revenue = df.groupby(df['Date'].dt.month)['Revenue Generated'].sum()\n",
    "months = monthly_revenue.index\n",
    "plt.bar(months, monthly_revenue)\n",
    "plt.title('Monthly Revenue')\n",
    "plt.xlabel('Month')\n",
    "plt.ylabel('Total Revenue')\n",
    "plt.tight_layout()\n",
    "plt.show()"
   ]
  },
  {
   "cell_type": "markdown",
   "id": "e7e92df1",
   "metadata": {},
   "source": [
    "In month May the total revenue is the highest"
   ]
  },
  {
   "cell_type": "code",
   "execution_count": 183,
   "id": "e0ed2d27",
   "metadata": {},
   "outputs": [
    {
     "name": "stderr",
     "output_type": "stream",
     "text": [
      "C:\\Users\\Rohitha Manne\\AppData\\Local\\Temp\\ipykernel_10020\\2916733631.py:1: FutureWarning: The default value of numeric_only in DataFrame.corr is deprecated. In a future version, it will default to False. Select only valid columns or specify the value of numeric_only to silence this warning.\n",
      "  correlation_data=Industrial_sales_data.corr()\n"
     ]
    }
   ],
   "source": [
    "correlation_data=Industrial_sales_data.corr()"
   ]
  },
  {
   "cell_type": "code",
   "execution_count": 205,
   "id": "ae277e41",
   "metadata": {},
   "outputs": [
    {
     "data": {
      "text/plain": [
       "Text(0.5, 1.0, 'Distribution of Thermostat')"
      ]
     },
     "execution_count": 205,
     "metadata": {},
     "output_type": "execute_result"
    },
    {
     "data": {
      "image/png": "[encoded data removed]",
      "text/plain": [
       "<Figure size 640x480 with 1 Axes>"
      ]
     },
     "metadata": {},
     "output_type": "display_data"
    }
   ],
   "source": [
    "sns.histplot(df['S1- Thermostat'], bins=20, kde=True)\n",
    "plt.xlabel('S1- Thermostat')\n",
    "plt.ylabel('Frequency')\n",
    "plt.title('Distribution of Thermostat')"
   ]
  },
  {
   "cell_type": "code",
   "execution_count": 167,
   "id": "9456bc5d",
   "metadata": {},
   "outputs": [
    {
     "data": {
      "image/png": "[encoded data removed]",
      "text/plain": [
       "<Figure size 640x480 with 1 Axes>"
      ]
     },
     "metadata": {},
     "output_type": "display_data"
    }
   ],
   "source": [
    "temp_categories = ['Cold', 'Moderate', 'Hot']\n",
    "temp_values = [df[df['S3- Temperature'] < 15].shape[0], \n",
    "              df[(df['S3- Temperature'] >= 15) & (df['S3- Temperature'] <= 25)].shape[0], \n",
    "              df[df['S3- Temperature'] > 25].shape[0]]\n",
    "plt.pie(temp_values, labels=temp_categories, autopct='%1.1f%%')\n",
    "plt.title('Temperature Categories')\n",
    "plt.show()"
   ]
  },
  {
   "cell_type": "code",
   "execution_count": 174,
   "id": "f956e428",
   "metadata": {},
   "outputs": [
    {
     "data": {
      "image/png": "[encoded data removed]",
      "text/plain": [
       "<Figure size 640x480 with 1 Axes>"
      ]
     },
     "metadata": {},
     "output_type": "display_data"
    }
   ],
   "source": [
    "co2_categories = ['Low', 'Medium', 'High']\n",
    "co2_values = [df[df['S6 - Co2 Levels'] < 500].shape[0], \n",
    "              df[(df['S6 - Co2 Levels'] >= 500) & (df['S6 - Co2 Levels'] <= 800)].shape[0], \n",
    "              df[df['S6 - Co2 Levels'] > 800].shape[0]]\n",
    "plt.pie(co2_values, labels=co2_categories, autopct='%1.1f%%')\n",
    "plt.title('CO2 Level Categories')\n",
    "plt.show()"
   ]
  },
  {
   "cell_type": "code",
   "execution_count": 96,
   "id": "12acbb5b",
   "metadata": {},
   "outputs": [
    {
     "data": {
      "text/plain": [
       "Count of Available Products\n",
       "0      4\n",
       "1      1\n",
       "2      2\n",
       "3      2\n",
       "4      1\n",
       "      ..\n",
       "496    2\n",
       "497    5\n",
       "498    2\n",
       "499    2\n",
       "500    2\n",
       "Name: Revenue Generated, Length: 433, dtype: int64"
      ]
     },
     "execution_count": 96,
     "metadata": {},
     "output_type": "execute_result"
    }
   ],
   "source": [
    "Industrial_sales_data1.groupby('Count of Available Products')['Revenue Generated'].nunique()"
   ]
  },
  {
   "cell_type": "code",
   "execution_count": 204,
   "id": "9f3dbcfd",
   "metadata": {},
   "outputs": [
    {
     "data": {
      "text/plain": [
       "<Axes: xlabel='year'>"
      ]
     },
     "execution_count": 204,
     "metadata": {},
     "output_type": "execute_result"
    },
    {
     "data": {
      "image/png": "[encoded data removed]",
      "text/plain": [
       "<Figure size 640x480 with 1 Axes>"
      ]
     },
     "metadata": {},
     "output_type": "display_data"
    }
   ],
   "source": [
    "df['year'] = pd.DatetimeIndex(df['Date']).year\n",
    "df4=df.groupby('year')['S3- Temperature'].mean()\n",
    "df4.plot()"
   ]
  },
  {
   "cell_type": "code",
   "execution_count": null,
   "id": "d05c02be",
   "metadata": {},
   "outputs": [],
   "source": []
  }
 ],
 "metadata": {
  "kernelspec": {
   "display_name": "Python 3 (ipykernel)",
   "language": "python",
   "name": "python3"
  },
  "language_info": {
   "codemirror_mode": {
    "name": "ipython",
    "version": 3
   },
   "file_extension": ".py",
   "mimetype": "text/x-python",
   "name": "python",
   "nbconvert_exporter": "python",
   "pygments_lexer": "ipython3",
   "version": "3.11.4"
  }
 },
 "nbformat": 4,
 "nbformat_minor": 5
}
