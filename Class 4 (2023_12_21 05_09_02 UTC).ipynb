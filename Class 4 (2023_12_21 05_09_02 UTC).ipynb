{
 "cells": [
  {
   "cell_type": "code",
   "execution_count": null,
   "id": "75054b03",
   "metadata": {},
   "outputs": [],
   "source": [
    "import datetime"
   ]
  },
  {
   "cell_type": "code",
   "execution_count": null,
   "id": "359bd7e0",
   "metadata": {},
   "outputs": [],
   "source": [
    "now=datetime.datetime.now()"
   ]
  },
  {
   "cell_type": "code",
   "execution_count": null,
   "id": "88227627",
   "metadata": {},
   "outputs": [],
   "source": [
    "print(now)"
   ]
  },
  {
   "cell_type": "code",
   "execution_count": null,
   "id": "8f30fb3b",
   "metadata": {},
   "outputs": [],
   "source": [
    "print(\"current date and time:\")\n",
    "print(now.strftime(\"%Y-%m-%d %H:%M:%S\"))"
   ]
  },
  {
   "cell_type": "code",
   "execution_count": null,
   "id": "70964236",
   "metadata": {},
   "outputs": [],
   "source": [
    "now=datetime.date.now()"
   ]
  },
  {
   "cell_type": "code",
   "execution_count": null,
   "id": "9fe0a9c6",
   "metadata": {},
   "outputs": [],
   "source": [
    "print(\"date:\",now)"
   ]
  },
  {
   "cell_type": "code",
   "execution_count": null,
   "id": "ed74769d",
   "metadata": {},
   "outputs": [],
   "source": [
    "from datetime import date\n",
    "#calling the today\n",
    "#function of date class\n",
    "today=date.today()\n",
    "print(\"today's date:\",today)\n",
    "print(\"date components:\" , today.year, today.month, today.day)"
   ]
  },
  {
   "cell_type": "code",
   "execution_count": null,
   "id": "44f07e65",
   "metadata": {},
   "outputs": [],
   "source": [
    "a=10\n",
    "b=10"
   ]
  },
  {
   "cell_type": "code",
   "execution_count": null,
   "id": "b0253254",
   "metadata": {},
   "outputs": [],
   "source": [
    "c=a+b"
   ]
  },
  {
   "cell_type": "code",
   "execution_count": null,
   "id": "7c6f17ab",
   "metadata": {},
   "outputs": [],
   "source": [
    "c"
   ]
  },
  {
   "cell_type": "code",
   "execution_count": null,
   "id": "4ce32aaa",
   "metadata": {},
   "outputs": [],
   "source": [
    "e=a/b #division"
   ]
  },
  {
   "cell_type": "code",
   "execution_count": null,
   "id": "857359d4",
   "metadata": {},
   "outputs": [],
   "source": [
    "e"
   ]
  },
  {
   "cell_type": "code",
   "execution_count": null,
   "id": "57b47ccd",
   "metadata": {},
   "outputs": [],
   "source": [
    "a//b #floor division"
   ]
  },
  {
   "cell_type": "code",
   "execution_count": null,
   "id": "3f13e67a",
   "metadata": {},
   "outputs": [],
   "source": [
    "r=2"
   ]
  },
  {
   "cell_type": "code",
   "execution_count": null,
   "id": "e429abb1",
   "metadata": {},
   "outputs": [],
   "source": [
    "r*2"
   ]
  },
  {
   "cell_type": "code",
   "execution_count": null,
   "id": "7a7cf668",
   "metadata": {},
   "outputs": [],
   "source": [
    "r**4 #to the power"
   ]
  },
  {
   "cell_type": "code",
   "execution_count": null,
   "id": "1880840c",
   "metadata": {},
   "outputs": [],
   "source": [
    "a=10\n",
    "b=2\n",
    "c=3\n",
    "p=(a+b)*(a-c)**2"
   ]
  },
  {
   "cell_type": "code",
   "execution_count": null,
   "id": "b47f2b77",
   "metadata": {},
   "outputs": [],
   "source": [
    "p"
   ]
  },
  {
   "cell_type": "code",
   "execution_count": 17,
   "id": "931ab1ae",
   "metadata": {},
   "outputs": [
    {
     "name": "stdout",
     "output_type": "stream",
     "text": [
      "Height of cylinder: 12\n",
      "Radius of cylinder: 2\n",
      "Volume is:  150.85714285714286\n",
      "Surface Area is:  176.0\n"
     ]
    }
   ],
   "source": [
    "#Write a program to find the surface volume and volume of a cylinder\n",
    "#A cylinder's volume is π r² h, and its surface area is 2π r h + 2π r².\n",
    "pi=22/7\n",
    "height = float(input('Height of cylinder: '))\n",
    "radian = float(input('Radius of cylinder: '))\n",
    "volume = pi * radian * radian * height\n",
    "sur_area = ((2*pi*radian) * height) + ((pi*radian**2)*2)\n",
    "print(\"Volume is: \", volume)\n",
    "print(\"Surface Area is: \", sur_area)"
   ]
  },
  {
   "cell_type": "code",
   "execution_count": null,
   "id": "f5d65679",
   "metadata": {},
   "outputs": [],
   "source": [
    "#bitwise operator"
   ]
  },
  {
   "cell_type": "code",
   "execution_count": null,
   "id": "4abdc306",
   "metadata": {},
   "outputs": [],
   "source": [
    "a=True\n",
    "b=False\n",
    "print(('a and b is',a and b))\n",
    "print(('a or b is', a or b))\n",
    "print(('a not is',not a))"
   ]
  },
  {
   "cell_type": "code",
   "execution_count": null,
   "id": "e9008b7e",
   "metadata": {},
   "outputs": [],
   "source": [
    "#operator precendence\n",
    "\n",
    "x=10+3*2\n",
    "print(x)"
   ]
  },
  {
   "cell_type": "code",
   "execution_count": null,
   "id": "7d3d50c6",
   "metadata": {},
   "outputs": [],
   "source": [
    "#exponential is having higher precedence, next is multiplication or division and then last is addition or subtraction\n",
    "x=(2+3)*10/3  #parenthesis is having highest priority\n",
    "print(x)"
   ]
  },
  {
   "cell_type": "code",
   "execution_count": null,
   "id": "a6ad9550",
   "metadata": {},
   "outputs": [],
   "source": [
    "x=2+3*10/3\n",
    "print(x)"
   ]
  },
  {
   "cell_type": "code",
   "execution_count": null,
   "id": "39afbed0",
   "metadata": {},
   "outputs": [],
   "source": [
    "#math functions\n",
    "x=2.9\n",
    "print(round(x))"
   ]
  },
  {
   "cell_type": "code",
   "execution_count": 1,
   "id": "0e0fde69",
   "metadata": {},
   "outputs": [
    {
     "name": "stdout",
     "output_type": "stream",
     "text": [
      "400.0\n"
     ]
    }
   ],
   "source": [
    "#program 1\n",
    "a=100\n",
    "b=5\n",
    "print(a//b*a/b)"
   ]
  },
  {
   "cell_type": "code",
   "execution_count": 2,
   "id": "054e6f0d",
   "metadata": {},
   "outputs": [
    {
     "data": {
      "text/plain": [
       "20.0"
      ]
     },
     "execution_count": 2,
     "metadata": {},
     "output_type": "execute_result"
    }
   ],
   "source": [
    "a/b"
   ]
  },
  {
   "cell_type": "code",
   "execution_count": null,
   "id": "3c3b1be1",
   "metadata": {},
   "outputs": [],
   "source": [
    "a//b"
   ]
  },
  {
   "cell_type": "code",
   "execution_count": null,
   "id": "b51deb79",
   "metadata": {},
   "outputs": [],
   "source": [
    "#program 2\n",
    "a,b=2,3\n",
    "c=(a**b)*a\n",
    "print(c)"
   ]
  },
  {
   "cell_type": "code",
   "execution_count": null,
   "id": "18680afd",
   "metadata": {},
   "outputs": [],
   "source": [
    "a={3,4,5}\n",
    "b={5,6,7}\n",
    "print(a|b)"
   ]
  },
  {
   "cell_type": "code",
   "execution_count": null,
   "id": "676e24cf",
   "metadata": {},
   "outputs": [],
   "source": [
    "print(a&b)"
   ]
  },
  {
   "cell_type": "code",
   "execution_count": 3,
   "id": "1829376c",
   "metadata": {},
   "outputs": [
    {
     "name": "stdout",
     "output_type": "stream",
     "text": [
      "True\n"
     ]
    }
   ],
   "source": [
    "a=(1.1+2.2)==3.3000000000000003\n",
    "print(a)\n"
   ]
  },
  {
   "cell_type": "code",
   "execution_count": 2,
   "id": "47f68d09",
   "metadata": {},
   "outputs": [
    {
     "data": {
      "text/plain": [
       "3.3000000000000003"
      ]
     },
     "execution_count": 2,
     "metadata": {},
     "output_type": "execute_result"
    }
   ],
   "source": [
    "a=(1.1+2.2)\n",
    "a"
   ]
  },
  {
   "cell_type": "code",
   "execution_count": 5,
   "id": "063f0325",
   "metadata": {},
   "outputs": [
    {
     "name": "stdout",
     "output_type": "stream",
     "text": [
      "True\n"
     ]
    }
   ],
   "source": [
    "#comparision operators\n",
    "x=5\n",
    "y=3\n",
    "print((x==y)|(x!=y))"
   ]
  },
  {
   "cell_type": "code",
   "execution_count": 6,
   "id": "0ffc8279",
   "metadata": {},
   "outputs": [
    {
     "name": "stdout",
     "output_type": "stream",
     "text": [
      "True\n"
     ]
    }
   ],
   "source": [
    "print(x!=y)\n"
   ]
  },
  {
   "cell_type": "code",
   "execution_count": 7,
   "id": "365ad49c",
   "metadata": {},
   "outputs": [
    {
     "name": "stdout",
     "output_type": "stream",
     "text": [
      "False\n"
     ]
    }
   ],
   "source": [
    "print(x==y)"
   ]
  },
  {
   "cell_type": "code",
   "execution_count": 8,
   "id": "e8c75871",
   "metadata": {},
   "outputs": [
    {
     "name": "stdout",
     "output_type": "stream",
     "text": [
      "True\n"
     ]
    }
   ],
   "source": [
    "print((x==y)|(x!=y))"
   ]
  },
  {
   "cell_type": "code",
   "execution_count": 9,
   "id": "9b5c1dbd",
   "metadata": {},
   "outputs": [
    {
     "name": "stdout",
     "output_type": "stream",
     "text": [
      "True\n"
     ]
    }
   ],
   "source": [
    "print(x>=y)"
   ]
  },
  {
   "cell_type": "code",
   "execution_count": 11,
   "id": "266be7b2",
   "metadata": {},
   "outputs": [
    {
     "name": "stdout",
     "output_type": "stream",
     "text": [
      "True\n"
     ]
    }
   ],
   "source": [
    "x=6\n",
    "y=7 \n",
    "print(not(x>3 and y<5))"
   ]
  },
  {
   "cell_type": "code",
   "execution_count": 13,
   "id": "88e5cedb",
   "metadata": {},
   "outputs": [
    {
     "name": "stdout",
     "output_type": "stream",
     "text": [
      "False\n"
     ]
    }
   ],
   "source": [
    "z=[\"apple\",\"banana\",\"strawberry\"]\n",
    "print(\"avacodo\" in z)"
   ]
  },
  {
   "cell_type": "code",
   "execution_count": 14,
   "id": "2966f521",
   "metadata": {},
   "outputs": [
    {
     "name": "stdout",
     "output_type": "stream",
     "text": [
      "True\n"
     ]
    }
   ],
   "source": [
    "print(\"banana\" in z)"
   ]
  },
  {
   "cell_type": "code",
   "execution_count": 15,
   "id": "f8554da2",
   "metadata": {},
   "outputs": [
    {
     "name": "stdout",
     "output_type": "stream",
     "text": [
      "False\n"
     ]
    }
   ],
   "source": [
    "print(\"banana\" not in z)"
   ]
  },
  {
   "cell_type": "code",
   "execution_count": 16,
   "id": "2347569e",
   "metadata": {},
   "outputs": [
    {
     "data": {
      "text/plain": [
       "5"
      ]
     },
     "execution_count": 16,
     "metadata": {},
     "output_type": "execute_result"
    }
   ],
   "source": [
    "import math\n",
    "x=4.2\n",
    "math.ceil(x) #the math.ceil() func always rounds a number up to "
   ]
  },
  {
   "cell_type": "code",
   "execution_count": 61,
   "id": "2a535d64",
   "metadata": {},
   "outputs": [
    {
     "name": "stdout",
     "output_type": "stream",
     "text": [
      "Headache: 1\n",
      "Cough: 1\n",
      "Fever: 1\n",
      "0\n"
     ]
    }
   ],
   "source": [
    "h=int(input(\"Headache: \"))\n",
    "c=int(input(\"Cough: \"))\n",
    "f=int(input(\"Fever: \"))\n",
    "        #print(\"cough syrup\")\n",
    "#a=h and c and f\n",
    "a=h&((not(c))&(not(f)))\n",
    "print(a)\n"
   ]
  },
  {
   "cell_type": "code",
   "execution_count": 63,
   "id": "3ca0209c",
   "metadata": {},
   "outputs": [
    {
     "data": {
      "text/plain": [
       "int"
      ]
     },
     "execution_count": 63,
     "metadata": {},
     "output_type": "execute_result"
    }
   ],
   "source": [
    "type(h)"
   ]
  },
  {
   "cell_type": "code",
   "execution_count": 64,
   "id": "cd10b7d2",
   "metadata": {},
   "outputs": [
    {
     "name": "stdout",
     "output_type": "stream",
     "text": [
      "0\n"
     ]
    }
   ],
   "source": [
    "b=h*c*(not(f))\n",
    "print(b)"
   ]
  },
  {
   "cell_type": "code",
   "execution_count": 65,
   "id": "ed9c42da",
   "metadata": {},
   "outputs": [
    {
     "name": "stdout",
     "output_type": "stream",
     "text": [
      "0\n"
     ]
    }
   ],
   "source": [
    "c=h*f*(not(c))\n",
    "print(c)\n"
   ]
  },
  {
   "cell_type": "code",
   "execution_count": 75,
   "id": "2175ad41",
   "metadata": {},
   "outputs": [
    {
     "name": "stdout",
     "output_type": "stream",
     "text": [
      "Headache: 1\n",
      "Cough: 0\n",
      "Fever: 1\n",
      "1\n"
     ]
    }
   ],
   "source": [
    "h=int(input(\"Headache: \"))\n",
    "c=int(input(\"Cough: \"))\n",
    "f=int(input(\"Fever: \"))\n",
    "d=h|c&f\n",
    "print(d)"
   ]
  },
  {
   "cell_type": "code",
   "execution_count": 78,
   "id": "44d4abef",
   "metadata": {},
   "outputs": [
    {
     "name": "stdout",
     "output_type": "stream",
     "text": [
      "12\n",
      "12\n"
     ]
    }
   ],
   "source": [
    "y=10\n",
    "y+=2 #y=y+2\n",
    "x=y\n",
    "print(y)\n",
    "print(x)"
   ]
  },
  {
   "cell_type": "code",
   "execution_count": 85,
   "id": "ecadbdaf",
   "metadata": {},
   "outputs": [
    {
     "name": "stdout",
     "output_type": "stream",
     "text": [
      "[1, 2, 3, 4, 5, 6]\n",
      "[1, 2, 3, 4, 5, 6, [4, 5, 6]]\n",
      "7\n"
     ]
    }
   ],
   "source": [
    "l=[1,2,3]\n",
    "l.extend([4,5,6])\n",
    "print(l)\n",
    "l.append([4,5,6])\n",
    "print(l)\n",
    "print(len(l))"
   ]
  },
  {
   "cell_type": "code",
   "execution_count": 104,
   "id": "1e47d516",
   "metadata": {},
   "outputs": [
    {
     "name": "stdout",
     "output_type": "stream",
     "text": [
      "['Rohitha', 'Manne']\n"
     ]
    }
   ],
   "source": [
    "l=['Rohitha']\n",
    "l.append(\"Manne\")\n",
    "print(l)"
   ]
  },
  {
   "cell_type": "code",
   "execution_count": 89,
   "id": "022ac0ab",
   "metadata": {},
   "outputs": [
    {
     "data": {
      "text/plain": [
       "str"
      ]
     },
     "execution_count": 89,
     "metadata": {},
     "output_type": "execute_result"
    }
   ],
   "source": [
    "type(l)"
   ]
  },
  {
   "cell_type": "code",
   "execution_count": 100,
   "id": "bc1335f9",
   "metadata": {},
   "outputs": [
    {
     "name": "stdout",
     "output_type": "stream",
     "text": [
      "['a', 'b', 'blueberry']\n"
     ]
    },
    {
     "data": {
      "text/plain": [
       "['a', 'b', 'blueberry', 'c', 'h', 'e', 'r', 'r', 'y']"
      ]
     },
     "execution_count": 100,
     "metadata": {},
     "output_type": "execute_result"
    }
   ],
   "source": [
    "fruits=[\"a\",\"b\"]\n",
    "fruits.append('blueberry')\n",
    "print(fruits)\n",
    "fruits.extend('cherry')\n",
    "fruits"
   ]
  },
  {
   "cell_type": "code",
   "execution_count": 94,
   "id": "3e39462d",
   "metadata": {},
   "outputs": [
    {
     "name": "stdout",
     "output_type": "stream",
     "text": [
      "John Doe\n"
     ]
    }
   ],
   "source": [
    "first_name = \"John\"\n",
    "last_name = \"Doe\"\n",
    "print(\" \".join([first_name, last_name]))"
   ]
  },
  {
   "cell_type": "code",
   "execution_count": null,
   "id": "54f76d1c",
   "metadata": {},
   "outputs": [],
   "source": []
  }
 ],
 "metadata": {
  "kernelspec": {
   "display_name": "Python 3 (ipykernel)",
   "language": "python",
   "name": "python3"
  },
  "language_info": {
   "codemirror_mode": {
    "name": "ipython",
    "version": 3
   },
   "file_extension": ".py",
   "mimetype": "text/x-python",
   "name": "python",
   "nbconvert_exporter": "python",
   "pygments_lexer": "ipython3",
   "version": "3.11.4"
  }
 },
 "nbformat": 4,
 "nbformat_minor": 5
}
