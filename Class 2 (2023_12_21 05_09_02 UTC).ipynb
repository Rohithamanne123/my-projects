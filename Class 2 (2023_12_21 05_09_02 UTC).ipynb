{
 "cells": [
  {
   "cell_type": "markdown",
   "id": "c97e72e0",
   "metadata": {},
   "source": [
    "# Introduction to Python"
   ]
  },
  {
   "cell_type": "code",
   "execution_count": null,
   "id": "3d57929a",
   "metadata": {},
   "outputs": [],
   "source": [
    "# This is a comment"
   ]
  },
  {
   "cell_type": "code",
   "execution_count": 109,
   "id": "c5358d51",
   "metadata": {},
   "outputs": [
    {
     "name": "stdout",
     "output_type": "stream",
     "text": [
      "\"MBA-BA\"\n"
     ]
    }
   ],
   "source": [
    "print('\"MBA-BA\"')"
   ]
  },
  {
   "cell_type": "code",
   "execution_count": 110,
   "id": "be8d60d8",
   "metadata": {},
   "outputs": [
    {
     "ename": "SyntaxError",
     "evalue": "unterminated string literal (detected at line 1) (1405670615.py, line 1)",
     "output_type": "error",
     "traceback": [
      "\u001b[0;36m  Cell \u001b[0;32mIn[110], line 1\u001b[0;36m\u001b[0m\n\u001b[0;31m    print('Madhu's' 'class')\u001b[0m\n\u001b[0m                          ^\u001b[0m\n\u001b[0;31mSyntaxError\u001b[0m\u001b[0;31m:\u001b[0m unterminated string literal (detected at line 1)\n"
     ]
    }
   ],
   "source": [
    "print('Madhu's' 'class')"
   ]
  },
  {
   "cell_type": "code",
   "execution_count": 111,
   "id": "5b0080b7",
   "metadata": {},
   "outputs": [
    {
     "name": "stdout",
     "output_type": "stream",
     "text": [
      "Madhu's House\n"
     ]
    }
   ],
   "source": [
    "print(\"Madhu's House\")"
   ]
  },
  {
   "cell_type": "code",
   "execution_count": null,
   "id": "e79e59c4",
   "metadata": {},
   "outputs": [],
   "source": [
    "#while assigning a variable there should be no spaces"
   ]
  },
  {
   "cell_type": "code",
   "execution_count": 112,
   "id": "2cf71013",
   "metadata": {},
   "outputs": [],
   "source": [
    "M_Rohitha_Sai=1"
   ]
  },
  {
   "cell_type": "code",
   "execution_count": 113,
   "id": "149c82dd",
   "metadata": {},
   "outputs": [
    {
     "name": "stdout",
     "output_type": "stream",
     "text": [
      "1\n"
     ]
    }
   ],
   "source": [
    "print(M_Rohitha_Sai)"
   ]
  },
  {
   "cell_type": "code",
   "execution_count": null,
   "id": "8eb99975",
   "metadata": {},
   "outputs": [],
   "source": [
    "#jupiter or python is a line by line execution program"
   ]
  },
  {
   "cell_type": "code",
   "execution_count": 114,
   "id": "a9dde87f",
   "metadata": {},
   "outputs": [
    {
     "name": "stdout",
     "output_type": "stream",
     "text": [
      "1\n"
     ]
    },
    {
     "ename": "NameError",
     "evalue": "name 'a' is not defined",
     "output_type": "error",
     "traceback": [
      "\u001b[0;31m---------------------------------------------------------------------------\u001b[0m",
      "\u001b[0;31mNameError\u001b[0m                                 Traceback (most recent call last)",
      "Cell \u001b[0;32mIn[114], line 5\u001b[0m\n\u001b[1;32m      3\u001b[0m M_Rohitha_Sai\u001b[38;5;241m=\u001b[39m\u001b[38;5;241m1\u001b[39m\n\u001b[1;32m      4\u001b[0m \u001b[38;5;28mprint\u001b[39m(M_Rohitha_Sai)\n\u001b[0;32m----> 5\u001b[0m \u001b[38;5;28mprint\u001b[39m(a)\n",
      "\u001b[0;31mNameError\u001b[0m: name 'a' is not defined"
     ]
    }
   ],
   "source": [
    "#eg #a is not defined in the first 2 statements, so the o/p is printed and then an error pops up\n",
    "\n",
    "M_Rohitha_Sai=1\n",
    "print(M_Rohitha_Sai)\n",
    "print(a)\n"
   ]
  },
  {
   "cell_type": "code",
   "execution_count": 115,
   "id": "c4f556d3",
   "metadata": {},
   "outputs": [
    {
     "name": "stdout",
     "output_type": "stream",
     "text": [
      "4\n"
     ]
    }
   ],
   "source": [
    "a=2\n",
    "a=4\n",
    "print(a)\n"
   ]
  },
  {
   "cell_type": "code",
   "execution_count": 116,
   "id": "65ef639e",
   "metadata": {},
   "outputs": [
    {
     "name": "stdout",
     "output_type": "stream",
     "text": [
      "2\n",
      "25\n"
     ]
    }
   ],
   "source": [
    "a=2\n",
    "print(a)\n",
    "a=4\n",
    "a=5\n",
    "print(a*a)\n"
   ]
  },
  {
   "cell_type": "code",
   "execution_count": null,
   "id": "46b937a4",
   "metadata": {},
   "outputs": [],
   "source": [
    "#global variables are used outside the programs as well\n",
    "#local variables are used only inside the internal programs or sub-programs"
   ]
  },
  {
   "cell_type": "code",
   "execution_count": 117,
   "id": "961d85bd",
   "metadata": {},
   "outputs": [],
   "source": [
    "a=4\n",
    "b=3.5\n",
    "c='Rio'\n",
    "d=True\n",
    "e=False\n",
    "#boolean values are case-sensitive  \n",
    "#python is case-sensitive"
   ]
  },
  {
   "cell_type": "code",
   "execution_count": 118,
   "id": "8beec3c8",
   "metadata": {},
   "outputs": [
    {
     "data": {
      "text/plain": [
       "bool"
      ]
     },
     "execution_count": 118,
     "metadata": {},
     "output_type": "execute_result"
    }
   ],
   "source": [
    "type(d)"
   ]
  },
  {
   "cell_type": "code",
   "execution_count": 119,
   "id": "de506d37",
   "metadata": {},
   "outputs": [
    {
     "data": {
      "text/plain": [
       "int"
      ]
     },
     "execution_count": 119,
     "metadata": {},
     "output_type": "execute_result"
    }
   ],
   "source": [
    "type(a)"
   ]
  },
  {
   "cell_type": "code",
   "execution_count": 120,
   "id": "6e18c1a2",
   "metadata": {},
   "outputs": [
    {
     "data": {
      "text/plain": [
       "float"
      ]
     },
     "execution_count": 120,
     "metadata": {},
     "output_type": "execute_result"
    }
   ],
   "source": [
    "type(b)"
   ]
  },
  {
   "cell_type": "code",
   "execution_count": 121,
   "id": "aa93b113",
   "metadata": {},
   "outputs": [
    {
     "data": {
      "text/plain": [
       "str"
      ]
     },
     "execution_count": 121,
     "metadata": {},
     "output_type": "execute_result"
    }
   ],
   "source": [
    "type(c)"
   ]
  },
  {
   "cell_type": "code",
   "execution_count": 122,
   "id": "000f15a8",
   "metadata": {},
   "outputs": [
    {
     "data": {
      "text/plain": [
       "bool"
      ]
     },
     "execution_count": 122,
     "metadata": {},
     "output_type": "execute_result"
    }
   ],
   "source": [
    "type(e)"
   ]
  },
  {
   "cell_type": "code",
   "execution_count": 123,
   "id": "cbd9ece3",
   "metadata": {},
   "outputs": [
    {
     "name": "stdout",
     "output_type": "stream",
     "text": [
      "What's your name?\n"
     ]
    }
   ],
   "source": [
    "print(\"What's your name?\")"
   ]
  },
  {
   "cell_type": "code",
   "execution_count": 124,
   "id": "c87d552c",
   "metadata": {},
   "outputs": [
    {
     "name": "stdout",
     "output_type": "stream",
     "text": [
      "14.0\n"
     ]
    }
   ],
   "source": [
    "print(a*b)"
   ]
  },
  {
   "cell_type": "code",
   "execution_count": 125,
   "id": "10606355",
   "metadata": {},
   "outputs": [
    {
     "name": "stdout",
     "output_type": "stream",
     "text": [
      "0\n"
     ]
    }
   ],
   "source": [
    "print(d*e)"
   ]
  },
  {
   "cell_type": "code",
   "execution_count": 126,
   "id": "d9a538c8",
   "metadata": {},
   "outputs": [
    {
     "name": "stdout",
     "output_type": "stream",
     "text": [
      "4\n"
     ]
    }
   ],
   "source": [
    "print(d*a)"
   ]
  },
  {
   "cell_type": "code",
   "execution_count": 127,
   "id": "2a924342",
   "metadata": {},
   "outputs": [
    {
     "name": "stdout",
     "output_type": "stream",
     "text": [
      "RioRioRioRio\n"
     ]
    }
   ],
   "source": [
    "print(c*a)"
   ]
  },
  {
   "cell_type": "code",
   "execution_count": 128,
   "id": "9811ff6e",
   "metadata": {},
   "outputs": [
    {
     "ename": "TypeError",
     "evalue": "can't multiply sequence by non-int of type 'float'",
     "output_type": "error",
     "traceback": [
      "\u001b[0;31m---------------------------------------------------------------------------\u001b[0m",
      "\u001b[0;31mTypeError\u001b[0m                                 Traceback (most recent call last)",
      "Cell \u001b[0;32mIn[128], line 1\u001b[0m\n\u001b[0;32m----> 1\u001b[0m \u001b[38;5;28mprint\u001b[39m(c\u001b[38;5;241m*\u001b[39mb)\n",
      "\u001b[0;31mTypeError\u001b[0m: can't multiply sequence by non-int of type 'float'"
     ]
    }
   ],
   "source": [
    "print(c*b)"
   ]
  },
  {
   "cell_type": "code",
   "execution_count": 129,
   "id": "b9521662",
   "metadata": {},
   "outputs": [
    {
     "name": "stdout",
     "output_type": "stream",
     "text": [
      "True\n"
     ]
    }
   ],
   "source": [
    "print(d)"
   ]
  },
  {
   "cell_type": "code",
   "execution_count": 131,
   "id": "daf523c0",
   "metadata": {},
   "outputs": [
    {
     "name": "stdout",
     "output_type": "stream",
     "text": [
      "Course Name: BA\n"
     ]
    }
   ],
   "source": [
    "#input is a text box where a statement is stored\n",
    "course_name=input(\"Course Name: \")"
   ]
  },
  {
   "cell_type": "code",
   "execution_count": 132,
   "id": "62e7b320",
   "metadata": {},
   "outputs": [
    {
     "name": "stdout",
     "output_type": "stream",
     "text": [
      "Hi \n",
      "This is my first BA class\n"
     ]
    }
   ],
   "source": [
    "print(\"Hi \\nThis is my first \" + course_name +\" class\")"
   ]
  },
  {
   "cell_type": "code",
   "execution_count": null,
   "id": "17471d57",
   "metadata": {},
   "outputs": [],
   "source": []
  },
  {
   "cell_type": "code",
   "execution_count": null,
   "id": "7693720c",
   "metadata": {},
   "outputs": [],
   "source": []
  },
  {
   "cell_type": "code",
   "execution_count": 136,
   "id": "472690e1",
   "metadata": {},
   "outputs": [],
   "source": [
    "#class3"
   ]
  },
  {
   "cell_type": "code",
   "execution_count": null,
   "id": "a8b6de05",
   "metadata": {},
   "outputs": [],
   "source": [
    "weight=float(input(\"Weight(lbs):\"))"
   ]
  },
  {
   "cell_type": "code",
   "execution_count": 26,
   "id": "debac159",
   "metadata": {},
   "outputs": [
    {
     "name": "stdout",
     "output_type": "stream",
     "text": [
      "weight in kgs= 77.4\n"
     ]
    }
   ],
   "source": [
    "print(\"weight in kgs=\", weight*0.45)"
   ]
  },
  {
   "cell_type": "code",
   "execution_count": 91,
   "id": "4b9e054a",
   "metadata": {},
   "outputs": [],
   "source": [
    "#strings\n",
    "course1 = '''Hi \n",
    "Python \n",
    "prog'''"
   ]
  },
  {
   "cell_type": "code",
   "execution_count": 92,
   "id": "5a6b58f0",
   "metadata": {},
   "outputs": [
    {
     "name": "stdout",
     "output_type": "stream",
     "text": [
      "Hi \n",
      "Python \n",
      "prog\n"
     ]
    }
   ],
   "source": [
    "print(course1)"
   ]
  },
  {
   "cell_type": "code",
   "execution_count": 65,
   "id": "b86bc93e",
   "metadata": {},
   "outputs": [
    {
     "name": "stdout",
     "output_type": "stream",
     "text": [
      "weight(lbs):172\n",
      "Weight in kgs=77.4KGS\n"
     ]
    }
   ],
   "source": [
    "weight_lbs=input('weight(lbs):')\n",
    "weight_kgs=float(weight_lbs)*0.45\n",
    "print(f'Weight in kgs={weight_kgs}KGS')"
   ]
  },
  {
   "cell_type": "code",
   "execution_count": 73,
   "id": "80403879",
   "metadata": {},
   "outputs": [
    {
     "name": "stdout",
     "output_type": "stream",
     "text": [
      "Year of birth: 2000\n"
     ]
    }
   ],
   "source": [
    "yearofbirth=int(input(\"Year of birth: \"))\n",
    "age=int(2023-yearofbirth)"
   ]
  },
  {
   "cell_type": "code",
   "execution_count": 76,
   "id": "7ebae7ac",
   "metadata": {},
   "outputs": [
    {
     "name": "stdout",
     "output_type": "stream",
     "text": [
      "Age=23 years\n"
     ]
    }
   ],
   "source": [
    "print(f'Age={age} years')"
   ]
  },
  {
   "cell_type": "code",
   "execution_count": 95,
   "id": "cf767f89",
   "metadata": {},
   "outputs": [
    {
     "data": {
      "text/plain": [
       "'Python \\nprog'"
      ]
     },
     "execution_count": 95,
     "metadata": {},
     "output_type": "execute_result"
    }
   ],
   "source": [
    "course1[4:]"
   ]
  },
  {
   "cell_type": "code",
   "execution_count": 102,
   "id": "1bfc27b2",
   "metadata": {},
   "outputs": [
    {
     "data": {
      "text/plain": [
       "'Hi \\nPython '"
      ]
     },
     "execution_count": 102,
     "metadata": {},
     "output_type": "execute_result"
    }
   ],
   "source": [
    "course1[0:11]"
   ]
  },
  {
   "cell_type": "code",
   "execution_count": 97,
   "id": "a5bc6139",
   "metadata": {},
   "outputs": [
    {
     "name": "stdout",
     "output_type": "stream",
     "text": [
      "RIO\n"
     ]
    }
   ],
   "source": [
    "#formatted strings\n",
    "first='R'\n",
    "middle='I'\n",
    "last='O'\n",
    "message=first+middle+last\n",
    "print(message)"
   ]
  },
  {
   "cell_type": "code",
   "execution_count": 133,
   "id": "51e59c92",
   "metadata": {},
   "outputs": [
    {
     "name": "stdout",
     "output_type": "stream",
     "text": [
      "3\n"
     ]
    }
   ],
   "source": [
    "#string methods\n",
    "print(len(message))"
   ]
  },
  {
   "cell_type": "code",
   "execution_count": 134,
   "id": "ed3ef9ca",
   "metadata": {},
   "outputs": [
    {
     "name": "stdout",
     "output_type": "stream",
     "text": [
      "rio\n"
     ]
    }
   ],
   "source": [
    "print(message.lower())"
   ]
  },
  {
   "cell_type": "code",
   "execution_count": 135,
   "id": "a4a6cf79",
   "metadata": {},
   "outputs": [
    {
     "name": "stdout",
     "output_type": "stream",
     "text": [
      "RIO\n"
     ]
    }
   ],
   "source": [
    "print(message.upper())"
   ]
  },
  {
   "cell_type": "code",
   "execution_count": 140,
   "id": "8e16b93f",
   "metadata": {},
   "outputs": [
    {
     "name": "stdout",
     "output_type": "stream",
     "text": [
      "rio\n"
     ]
    }
   ],
   "source": [
    "print(message.swapcase())"
   ]
  },
  {
   "cell_type": "code",
   "execution_count": 2,
   "id": "7635fbb7",
   "metadata": {},
   "outputs": [],
   "source": [
    "#find,replace,title"
   ]
  },
  {
   "cell_type": "code",
   "execution_count": 15,
   "id": "ada115ab",
   "metadata": {},
   "outputs": [],
   "source": [
    "a = \"Hi today's tuesday\""
   ]
  },
  {
   "cell_type": "code",
   "execution_count": 16,
   "id": "a5622791",
   "metadata": {},
   "outputs": [
    {
     "data": {
      "text/plain": [
       "['Hi', \"today's\", 'tuesday']"
      ]
     },
     "execution_count": 16,
     "metadata": {},
     "output_type": "execute_result"
    }
   ],
   "source": [
    "a.split()"
   ]
  },
  {
   "cell_type": "code",
   "execution_count": 18,
   "id": "42e9505d",
   "metadata": {},
   "outputs": [
    {
     "data": {
      "text/plain": [
       "['Hi', \"today's tuesday\"]"
      ]
     },
     "execution_count": 18,
     "metadata": {},
     "output_type": "execute_result"
    }
   ],
   "source": [
    "a.split(maxsplit=1)"
   ]
  },
  {
   "cell_type": "code",
   "execution_count": 19,
   "id": "62ad4d74",
   "metadata": {},
   "outputs": [
    {
     "data": {
      "text/plain": [
       "['Hi', \"today's\", 'tuesday']"
      ]
     },
     "execution_count": 19,
     "metadata": {},
     "output_type": "execute_result"
    }
   ],
   "source": [
    "a.split(maxsplit=2)"
   ]
  },
  {
   "cell_type": "code",
   "execution_count": 63,
   "id": "1e56316d",
   "metadata": {},
   "outputs": [],
   "source": [
    "A=\"woxsen university MBA BA Rohitha\""
   ]
  },
  {
   "cell_type": "code",
   "execution_count": 67,
   "id": "896a1b54",
   "metadata": {},
   "outputs": [],
   "source": [
    "b = A.split(maxsplit=2)"
   ]
  },
  {
   "cell_type": "code",
   "execution_count": 69,
   "id": "72b7a235",
   "metadata": {},
   "outputs": [
    {
     "data": {
      "text/plain": [
       "4"
      ]
     },
     "execution_count": 69,
     "metadata": {},
     "output_type": "execute_result"
    }
   ],
   "source": [
    "2+2"
   ]
  },
  {
   "cell_type": "code",
   "execution_count": 68,
   "id": "68b229c0",
   "metadata": {},
   "outputs": [
    {
     "data": {
      "text/plain": [
       "'woxsen*university*MBA BA Rohitha'"
      ]
     },
     "execution_count": 68,
     "metadata": {},
     "output_type": "execute_result"
    }
   ],
   "source": [
    "'*'.join(b)"
   ]
  },
  {
   "cell_type": "code",
   "execution_count": 28,
   "id": "dfd8e435",
   "metadata": {},
   "outputs": [],
   "source": [
    "page=\"https://www.amazon.in/MamyPoko-Pants-Standard-Diaper-Large/product-reviews/B09NP74HX2/ref=cm_cr_arp_d_paging_btm_next_2?ie=UTF8&reviewerType=all_reviews&pageNumber\""
   ]
  },
  {
   "cell_type": "code",
   "execution_count": 47,
   "id": "947ab90d",
   "metadata": {},
   "outputs": [
    {
     "data": {
      "text/plain": [
       "'https://www.amazon.in/MamyPoko-Pants-Standard-Diaper-Large/product-reviews/B09NP74HX2/ref=cm_cr_arp_d_paging_btm_next_2?ie=UTF8&reviewerType=all_reviews&pageNumber=3'"
      ]
     },
     "execution_count": 47,
     "metadata": {},
     "output_type": "execute_result"
    }
   ],
   "source": [
    "page[0:]+\"=3\""
   ]
  },
  {
   "cell_type": "code",
   "execution_count": 60,
   "id": "a4a19bea",
   "metadata": {},
   "outputs": [],
   "source": [
    "arc='James Bond'\n"
   ]
  },
  {
   "cell_type": "code",
   "execution_count": 39,
   "id": "eeeb1b89",
   "metadata": {},
   "outputs": [
    {
     "name": "stdout",
     "output_type": "stream",
     "text": [
      "maJ\n"
     ]
    }
   ],
   "source": [
    "print(arc[2::-1])"
   ]
  },
  {
   "cell_type": "code",
   "execution_count": 46,
   "id": "24ecb9cc",
   "metadata": {},
   "outputs": [
    {
     "name": "stdout",
     "output_type": "stream",
     "text": [
      "msBn\n"
     ]
    }
   ],
   "source": [
    "print(arc[2:9:2])"
   ]
  },
  {
   "cell_type": "code",
   "execution_count": 58,
   "id": "aaa7ec86",
   "metadata": {},
   "outputs": [],
   "source": [
    "a=\"https://www.amazon.in/MamyPoko-Pants-Standard-Diaper-Large/product-reviews/B09NP74HX2/ref=cm_cr_arp_d_paging_btm_next_2?ie=UTF8&reviewerType=all_reviews&pageNumber=2\""
   ]
  },
  {
   "cell_type": "code",
   "execution_count": 54,
   "id": "cb27a0bf",
   "metadata": {},
   "outputs": [],
   "source": [
    "b=a.split('pageNumber=2')"
   ]
  },
  {
   "cell_type": "code",
   "execution_count": 70,
   "id": "ceb52f32",
   "metadata": {},
   "outputs": [],
   "source": [
    "c=a.split('=2')"
   ]
  },
  {
   "cell_type": "code",
   "execution_count": 71,
   "id": "986ea92e",
   "metadata": {},
   "outputs": [
    {
     "name": "stdout",
     "output_type": "stream",
     "text": [
      "['https://www.amazon.in/MamyPoko-Pants-Standard-Diaper-Large/product-reviews/B09NP74HX2/ref=cm_cr_arp_d_paging_btm_next_2?ie=UTF8&reviewerType=all_reviews&pageNumber', '']\n"
     ]
    }
   ],
   "source": [
    "print(c)"
   ]
  },
  {
   "cell_type": "code",
   "execution_count": 55,
   "id": "d4dfcab4",
   "metadata": {},
   "outputs": [
    {
     "name": "stdout",
     "output_type": "stream",
     "text": [
      "['https://www.amazon.in/MamyPoko-Pants-Standard-Diaper-Large/product-reviews/B09NP74HX2/ref=cm_cr_arp_d_paging_btm_next_2?ie=UTF8&reviewerType=all_reviews&', '']\n"
     ]
    }
   ],
   "source": [
    "print(b)"
   ]
  },
  {
   "cell_type": "code",
   "execution_count": 57,
   "id": "26957240",
   "metadata": {},
   "outputs": [
    {
     "data": {
      "text/plain": [
       "'https://www.amazon.in/MamyPoko-Pants-Standard-Diaper-Large/product-reviews/B09NP74HX2/ref=cm_cr_arp_d_paging_btm_next_2?ie=UTF8&reviewerType=all_reviews&pageNumber=3'"
      ]
     },
     "execution_count": 57,
     "metadata": {},
     "output_type": "execute_result"
    }
   ],
   "source": [
    "'pageNumber=3'.join(b)"
   ]
  },
  {
   "cell_type": "code",
   "execution_count": 72,
   "id": "843ac6a2",
   "metadata": {},
   "outputs": [
    {
     "data": {
      "text/plain": [
       "'https://www.amazon.in/MamyPoko-Pants-Standard-Diaper-Large/product-reviews/B09NP74HX2/ref=cm_cr_arp_d_paging_btm_next_2?ie=UTF8&reviewerType=all_reviews&pageNumber=3'"
      ]
     },
     "execution_count": 72,
     "metadata": {},
     "output_type": "execute_result"
    }
   ],
   "source": [
    "'=3'.join(c)"
   ]
  },
  {
   "cell_type": "code",
   "execution_count": null,
   "id": "83e4a2dc",
   "metadata": {},
   "outputs": [],
   "source": []
  }
 ],
 "metadata": {
  "kernelspec": {
   "display_name": "Python 3 (ipykernel)",
   "language": "python",
   "name": "python3"
  },
  "language_info": {
   "codemirror_mode": {
    "name": "ipython",
    "version": 3
   },
   "file_extension": ".py",
   "mimetype": "text/x-python",
   "name": "python",
   "nbconvert_exporter": "python",
   "pygments_lexer": "ipython3",
   "version": "3.11.4"
  }
 },
 "nbformat": 4,
 "nbformat_minor": 5
}
